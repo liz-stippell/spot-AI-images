{
 "cells": [
  {
   "cell_type": "code",
   "execution_count": 2,
   "id": "afbcb8dc",
   "metadata": {},
   "outputs": [],
   "source": [
    "from PIL import Image\n",
    "import numpy as np"
   ]
  },
  {
   "cell_type": "code",
   "execution_count": 17,
   "id": "3b87120f",
   "metadata": {},
   "outputs": [],
   "source": [
    "# IMAGE MUST BE .JPG FORM\n",
    "\n",
    "image_path = \"\" # Image has to be JPG\n",
    "    \n",
    "image_array = np.asarray(Image.open(image_path))\n",
    "#print(image_array.shape)\n",
    "average_rgb = np.mean(image_array, axis=2)"
   ]
  },
  {
   "cell_type": "code",
   "execution_count": 18,
   "id": "75afdf5b",
   "metadata": {},
   "outputs": [],
   "source": [
    "arr = average_rgb\n",
    "\n",
    "def take_a_tour_iterative(arr, visited, y, x, act_group_number, group_members_cnt):\n",
    "    stack = [(y, x)]\n",
    "    visited[y][x] = act_group_number\n",
    "    if act_group_number in group_members_cnt:\n",
    "        group_members_cnt[act_group_number] += 1\n",
    "    else:\n",
    "        group_members_cnt[act_group_number] = 1\n",
    "\n",
    "    while stack:\n",
    "        cy, cx = stack.pop()\n",
    "        \n",
    "        for ny, nx in [(cy, cx + 1), (cy + 1, cx), (cy, cx - 1), (cy - 1, cx)]:\n",
    "            if 0 <= ny < len(arr) and 0 <= nx < len(arr[cy]) and visited[ny][nx] == 0 and arr[ny][nx] == arr[cy][cx]:\n",
    "                visited[ny][nx] = act_group_number\n",
    "                group_members_cnt[act_group_number] += 1\n",
    "                stack.append((ny, nx))\n",
    "\n",
    "visited = np.zeros_like(arr, dtype=int)\n",
    "act_group_number = 1\n",
    "group_members_cnt = {}\n",
    "\n",
    "for y in range(len(arr)):\n",
    "    for x in range(len(arr[y])):\n",
    "        if visited[y][x] == 0:\n",
    "            take_a_tour_iterative(arr, visited, y, x, act_group_number, group_members_cnt)\n",
    "            act_group_number += 1\n",
    "\n",
    "sorted_groups = sorted(group_members_cnt.items(), key=lambda item: item[1], reverse=True)\n",
    "l = []\n",
    "# Print groups with >= value count\n",
    "for group, count in sorted_groups:\n",
    "    if count >= 200: # Need to lower for smaller pictures\n",
    "        l.append(count)\n",
    "#print(l)  "
   ]
  },
  {
   "cell_type": "code",
   "execution_count": 20,
   "id": "cba8871c",
   "metadata": {},
   "outputs": [
    {
     "name": "stdout",
     "output_type": "stream",
     "text": [
      "PICTURE AVERAGE\n",
      "322.0\n",
      "\n",
      "PICTURE STANDARD DEVIATION\n",
      "71.35357968128392\n"
     ]
    }
   ],
   "source": [
    "avg = np.mean(l)\n",
    "std = np.std(l)\n",
    "print(\"PICTURE AVERAGE\")\n",
    "print(avg)\n",
    "print(\"\")\n",
    "print(\"PICTURE STANDARD DEVIATION\")\n",
    "print(std)"
   ]
  },
  {
   "cell_type": "markdown",
   "id": "51a6b2c0",
   "metadata": {},
   "source": [
    "# Analyzing the Data\n",
    "\n",
    "Usually, AI images have a much lower standard deviation and average than a real image. Real images tend to have standard deviations <b> >= 1000</b>, and extremely high averages, ranging all the way into the <b>10,000</b> range. This is also extremely dependent on the size of the image. The smaller the image, the harder it is to tell if it's AI. \n",
    "\n",
    "To further increase accuracy, find an image similar to the suspected AI image you are assessing. If your similar image (which you need to know if it is AI or real, either work) has a significantly higher standard deviation/average, it is most likely real. If it has a significantly lower standard deviation/average, it is most likely AI. (For example, if you have two similar pictures, one with a standard deviation/average of 400/300, and the other with 700/500, the first picture would be most likely AI generated)\n",
    "\n",
    "### For the most accurate results\n",
    "To further increase accuracy, find an image similar to the suspected AI image you are assessing. If your similar image (which you need to know if it is AI or real, either work) has a significantly higher standard deviation/average, it is most likely real. If it has a significantly lower standard deviation/average, it is most likely AI. (For example, if you have two similar pictures, one with a standard deviation/average of 400/300, and the other with 700/500, the first picture would be most likely AI generated)\n",
    "\n",
    "# Sample Images\n",
    "\n",
    "The following websites have both AI and Real images that can be saved and processed through this code:\n",
    "\n",
    "[Scottsdale Community College Quiz](https://library.scottsdalecc.edu/RealAI)\n",
    "\n",
    "[Britannica Education](https://elearn.eb.com/real-vs-ai-images/)\n",
    "\n",
    "[CNet](https://www.cnet.com/pictures/ai-or-not-ai-can-you-spot-the-real-photos/)"
   ]
  },
  {
   "cell_type": "code",
   "execution_count": null,
   "id": "23432081",
   "metadata": {},
   "outputs": [],
   "source": []
  }
 ],
 "metadata": {
  "kernelspec": {
   "display_name": "Python 3",
   "language": "python",
   "name": "python3"
  },
  "language_info": {
   "codemirror_mode": {
    "name": "ipython",
    "version": 3
   },
   "file_extension": ".py",
   "mimetype": "text/x-python",
   "name": "python",
   "nbconvert_exporter": "python",
   "pygments_lexer": "ipython3",
   "version": "3.8.8"
  }
 },
 "nbformat": 4,
 "nbformat_minor": 5
}
