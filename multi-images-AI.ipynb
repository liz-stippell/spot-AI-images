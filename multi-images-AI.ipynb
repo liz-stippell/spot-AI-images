{
 "cells": [
  {
   "cell_type": "code",
   "execution_count": 13,
   "id": "cc8c1059",
   "metadata": {},
   "outputs": [],
   "source": [
    "from PIL import Image\n",
    "\n",
    "import matplotlib.pyplot as plt\n",
    "import numpy as np"
   ]
  },
  {
   "cell_type": "code",
   "execution_count": 26,
   "id": "aec6fe4a",
   "metadata": {},
   "outputs": [],
   "source": [
    "image_list = []\n",
    "\n",
    "filepath_images = \"\"\n",
    "\n",
    "for i in range(1, 11):\n",
    "    image_list.append(f\"{filepath_images}T{i}.jpg\") # Assuming all images have similar names (1.jpg, 2.jpg, 3.jpg...)\n",
    "\n",
    "rgb_list = []\n",
    "for filename in image_list:\n",
    "    img = np.asarray(Image.open(filename))\n",
    "    if img.ndim == 3:\n",
    "        average_rgb = np.mean(img, axis=2)\n",
    "    else:\n",
    "        continue\n",
    "\n",
    "    rgb_list.append(average_rgb)"
   ]
  },
  {
   "cell_type": "code",
   "execution_count": 30,
   "id": "1afe3056",
   "metadata": {},
   "outputs": [],
   "source": [
    "def take_a_tour_iterative(arr, visited, y, x, act_group_number, group_members_cnt):\n",
    "    stack = [(y, x)]  \n",
    "    visited[y][x] = act_group_number\n",
    "    if act_group_number in group_members_cnt:\n",
    "        group_members_cnt[act_group_number] += 1\n",
    "    else:\n",
    "        group_members_cnt[act_group_number] = 1\n",
    "\n",
    "    while stack:\n",
    "        cy, cx = stack.pop()\n",
    "        \n",
    "        for ny, nx in [(cy, cx + 1), (cy + 1, cx), (cy, cx - 1), (cy - 1, cx)]:\n",
    "            if 0 <= ny < len(arr) and 0 <= nx < len(arr[cy]) and visited[ny][nx] == 0 and arr[ny][nx] == arr[cy][cx]:\n",
    "                visited[ny][nx] = act_group_number\n",
    "                group_members_cnt[act_group_number] += 1\n",
    "                stack.append((ny, nx))\n",
    "\n",
    "l_tot = []\n",
    "for arr in rgb_list:\n",
    "\n",
    "    visited = np.zeros_like(arr, dtype=int)\n",
    "    act_group_number = 1\n",
    "    group_members_cnt = {}\n",
    "\n",
    "    for y in range(len(arr)):\n",
    "        for x in range(len(arr[y])):\n",
    "            if visited[y][x] == 0:\n",
    "                take_a_tour_iterative(arr, visited, y, x, act_group_number, group_members_cnt)\n",
    "                act_group_number += 1\n",
    "\n",
    "\n",
    "    sorted_groups = sorted(group_members_cnt.items(), key=lambda item: item[1], reverse=True)\n",
    "    l = []\n",
    "\n",
    "    for group, count in sorted_groups:\n",
    "        if count >= 100:\n",
    "            l.append(count)\n",
    "            \n",
    "    l_tot.append(l)"
   ]
  },
  {
   "cell_type": "code",
   "execution_count": 31,
   "id": "e3d21f8d",
   "metadata": {},
   "outputs": [
    {
     "data": {
      "text/plain": [
       "10"
      ]
     },
     "execution_count": 31,
     "metadata": {},
     "output_type": "execute_result"
    }
   ],
   "source": [
    "len(l_tot)"
   ]
  },
  {
   "cell_type": "code",
   "execution_count": 32,
   "id": "a078bbd8",
   "metadata": {
    "scrolled": true
   },
   "outputs": [
    {
     "name": "stdout",
     "output_type": "stream",
     "text": [
      "PICTURE AVERAGE\n",
      "199.34782608695653\n",
      "\n",
      "PICTURE STANDARD DEVIATION\n",
      "92.17969629108995\n",
      "==========================\n",
      "PICTURE AVERAGE\n",
      "135.25\n",
      "\n",
      "PICTURE STANDARD DEVIATION\n",
      "16.498105951896417\n",
      "==========================\n",
      "PICTURE AVERAGE\n",
      "169.66666666666666\n",
      "\n",
      "PICTURE STANDARD DEVIATION\n",
      "43.66793891276401\n",
      "==========================\n",
      "PICTURE AVERAGE\n",
      "139.42857142857142\n",
      "\n",
      "PICTURE STANDARD DEVIATION\n",
      "41.99441167875671\n",
      "==========================\n",
      "PICTURE AVERAGE\n",
      "56298.0\n",
      "\n",
      "PICTURE STANDARD DEVIATION\n",
      "0.0\n",
      "==========================\n",
      "PICTURE AVERAGE\n",
      "144.6875\n",
      "\n",
      "PICTURE STANDARD DEVIATION\n",
      "47.875775124273446\n",
      "==========================\n",
      "PICTURE AVERAGE\n",
      "447.57052441229655\n",
      "\n",
      "PICTURE STANDARD DEVIATION\n",
      "1905.8950949669488\n",
      "==========================\n",
      "PICTURE AVERAGE\n",
      "140.0\n",
      "\n",
      "PICTURE STANDARD DEVIATION\n",
      "4.0\n",
      "==========================\n",
      "PICTURE AVERAGE\n",
      "nan\n",
      "\n",
      "PICTURE STANDARD DEVIATION\n",
      "nan\n",
      "==========================\n",
      "PICTURE AVERAGE\n",
      "nan\n",
      "\n",
      "PICTURE STANDARD DEVIATION\n",
      "nan\n",
      "==========================\n"
     ]
    }
   ],
   "source": [
    "for it in l_tot:\n",
    "    avg = np.mean(it)\n",
    "    std = np.std(it)\n",
    "    print(\"PICTURE AVERAGE\")\n",
    "    print(avg)\n",
    "    print(\"\")\n",
    "    print(\"PICTURE STANDARD DEVIATION\")\n",
    "    print(std)\n",
    "    print(\"==========================\")"
   ]
  },
  {
   "cell_type": "markdown",
   "id": "2bffa59e",
   "metadata": {},
   "source": [
    "# Analyzing the Data\n",
    "\n",
    "Usually, AI images have a much lower standard deviation and average than a real image. Real images tend to have larger standard deviations than their AI counterparts, and extremely high averages ranging all the way into the <b>10,000</b> range in some cases. <b>This is also extremely dependent on the size of the image.</b> The smaller the image, the harder it is to tell if it's AI. \n",
    "\n",
    "### For the most accurate results\n",
    "To further increase accuracy, find an image similar to the suspected AI image you are assessing. If your similar image (which you need to know if it is AI or real, either work) has a significantly higher standard deviation/average, it is most likely real. If it has a significantly lower standard deviation/average, it is most likely AI. (For example, if you have two similar pictures, one with a standard deviation/average of 400/300, and the other with 700/500, the first picture would be most likely AI generated)\n",
    "\n",
    "# Sample Images\n",
    "\n",
    "The following websites have both AI and Real images that can be saved and processed through this code:\n",
    "\n",
    "[Scottsdale Community College Quiz](https://library.scottsdalecc.edu/RealAI)\n",
    "\n",
    "[Britannica Education](https://elearn.eb.com/real-vs-ai-images/)\n",
    "\n",
    "[CNet](https://www.cnet.com/pictures/ai-or-not-ai-can-you-spot-the-real-photos/)"
   ]
  },
  {
   "cell_type": "code",
   "execution_count": null,
   "id": "d26fcac8",
   "metadata": {},
   "outputs": [],
   "source": []
  }
 ],
 "metadata": {
  "kernelspec": {
   "display_name": "Python 3",
   "language": "python",
   "name": "python3"
  },
  "language_info": {
   "codemirror_mode": {
    "name": "ipython",
    "version": 3
   },
   "file_extension": ".py",
   "mimetype": "text/x-python",
   "name": "python",
   "nbconvert_exporter": "python",
   "pygments_lexer": "ipython3",
   "version": "3.8.8"
  }
 },
 "nbformat": 4,
 "nbformat_minor": 5
}
